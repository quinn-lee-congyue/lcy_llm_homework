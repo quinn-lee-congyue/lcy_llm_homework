{
 "cells": [
  {
   "cell_type": "markdown",
   "id": "e867ea44-d582-45e6-9df9-774b041eeef5",
   "metadata": {},
   "source": [
    "### 作业1.基于 data 目录下的数据训练 ChatGLM3 模型，使用 inference Notebook 对比微调前后的效果。"
   ]
  },
  {
   "cell_type": "markdown",
   "id": "941714f3-0ccf-48f1-9198-4781a0410caf",
   "metadata": {},
   "source": [
    "现将160个样本的训练集使用qlora微调了一版ChatGLM3模型，其中epoch为3，最终训练损失为0.42。"
   ]
  },
  {
   "cell_type": "markdown",
   "id": "f648c2c8-2fb1-4d5b-a5b7-1bc82ea30f5f",
   "metadata": {},
   "source": [
    "1.加载原始模型"
   ]
  },
  {
   "cell_type": "code",
   "execution_count": 7,
   "id": "886d3a0e-4479-4de2-a0b7-6b13ee3e8ab5",
   "metadata": {},
   "outputs": [],
   "source": [
    "import torch\n",
    "from transformers import AutoModel, AutoTokenizer, BitsAndBytesConfig\n",
    "\n",
    "# 模型ID或本地路径\n",
    "model_name_or_path = 'THUDM/chatglm3-6b'"
   ]
  },
  {
   "cell_type": "code",
   "execution_count": 8,
   "id": "ffa335e0-2651-4134-843a-31dab1b6b09f",
   "metadata": {},
   "outputs": [
    {
     "name": "stderr",
     "output_type": "stream",
     "text": [
      "Loading checkpoint shards: 100%|██████████████████| 7/7 [00:04<00:00,  1.48it/s]\n"
     ]
    }
   ],
   "source": [
    "_compute_dtype_map = {\n",
    "    'fp32': torch.float32,\n",
    "    'fp16': torch.float16,\n",
    "    'bf16': torch.bfloat16\n",
    "}\n",
    "\n",
    "# QLoRA 量化配置\n",
    "q_config = BitsAndBytesConfig(load_in_4bit=True,\n",
    "                              bnb_4bit_quant_type='nf4',\n",
    "                              bnb_4bit_use_double_quant=True,\n",
    "                              bnb_4bit_compute_dtype=_compute_dtype_map['bf16'])\n",
    "\n",
    "# 加载量化后模型(与微调的 revision 保持一致）\n",
    "base_model = AutoModel.from_pretrained(model_name_or_path,\n",
    "                                      quantization_config=q_config,\n",
    "                                      device_map='auto',\n",
    "                                      trust_remote_code=True,\n",
    "                                      revision='b098244')"
   ]
  },
  {
   "cell_type": "code",
   "execution_count": 10,
   "id": "7eea680b-ea43-4ba2-9dd7-7828b3103dbb",
   "metadata": {},
   "outputs": [
    {
     "data": {
      "text/plain": [
       "ChatGLMForConditionalGeneration(\n",
       "  (transformer): ChatGLMModel(\n",
       "    (embedding): Embedding(\n",
       "      (word_embeddings): Embedding(65024, 4096)\n",
       "    )\n",
       "    (rotary_pos_emb): RotaryEmbedding()\n",
       "    (encoder): GLMTransformer(\n",
       "      (layers): ModuleList(\n",
       "        (0-27): 28 x GLMBlock(\n",
       "          (input_layernorm): RMSNorm()\n",
       "          (self_attention): SelfAttention(\n",
       "            (query_key_value): Linear4bit(in_features=4096, out_features=4608, bias=True)\n",
       "            (core_attention): CoreAttention(\n",
       "              (attention_dropout): Dropout(p=0.0, inplace=False)\n",
       "            )\n",
       "            (dense): Linear4bit(in_features=4096, out_features=4096, bias=False)\n",
       "          )\n",
       "          (post_attention_layernorm): RMSNorm()\n",
       "          (mlp): MLP(\n",
       "            (dense_h_to_4h): Linear4bit(in_features=4096, out_features=27392, bias=False)\n",
       "            (dense_4h_to_h): Linear4bit(in_features=13696, out_features=4096, bias=False)\n",
       "          )\n",
       "        )\n",
       "      )\n",
       "      (final_layernorm): RMSNorm()\n",
       "    )\n",
       "    (output_layer): Linear(in_features=4096, out_features=65024, bias=False)\n",
       "  )\n",
       ")"
      ]
     },
     "execution_count": 10,
     "metadata": {},
     "output_type": "execute_result"
    }
   ],
   "source": [
    "base_model.requires_grad_(False)\n",
    "base_model.eval()"
   ]
  },
  {
   "cell_type": "code",
   "execution_count": 11,
   "id": "34c66616-d41e-4f54-b85d-7a2772fba25b",
   "metadata": {},
   "outputs": [],
   "source": [
    "tokenizer = AutoTokenizer.from_pretrained(model_name_or_path,\n",
    "                                          trust_remote_code=True,\n",
    "                                         revision='b098244')"
   ]
  },
  {
   "cell_type": "code",
   "execution_count": 12,
   "id": "89e3c05a-c700-4b1f-9c33-7442d1844efa",
   "metadata": {},
   "outputs": [
    {
     "name": "stdout",
     "output_type": "stream",
     "text": [
      "乾卦是八卦之一，也是八宫图中的第一个卦。乾卦是由两个阴爻夹一个阳爻构成，象征着天、云和雷等自然现象。乾卦的含义包括力量、刚强、创造、领导等。在八宫图中，乾卦位于北方，与事业、努力、坚定等有关。在命理学中，乾卦也与人君、权力、法律等有关。\n"
     ]
    }
   ],
   "source": [
    "# 进行推断\n",
    "input_text = \"解释下乾卦是什么？\"\n",
    "response, history = base_model.chat(tokenizer, query=input_text)\n",
    "print(response)"
   ]
  },
  {
   "cell_type": "code",
   "execution_count": 13,
   "id": "61e8e51a-29a8-4b2a-9979-7d812921e9fd",
   "metadata": {},
   "outputs": [
    {
     "name": "stdout",
     "output_type": "stream",
     "text": [
      "讼卦是八卦之一，也是八宫图中的第二个卦。讼卦由三个阴爻夹一个阳爻构成，象征着诉讼、争端、法律等。坎坷、艰难、矛盾、困苦等也是讼卦的象征。在八宫图中，讼卦位于西北，与法律、争端、权力等有关。在命理学中，讼卦也与人运、运势、健康等有关。\n"
     ]
    }
   ],
   "source": [
    "response, history = base_model.chat(tokenizer, query=\"周易中的讼卦是什么？\", history=history)\n",
    "print(response)"
   ]
  },
  {
   "cell_type": "markdown",
   "id": "66b5b4dc-a8d1-488b-9b9f-14385b02d9c5",
   "metadata": {},
   "source": [
    "2.加载微调后的 ChatGLM3-6B"
   ]
  },
  {
   "cell_type": "code",
   "execution_count": 15,
   "id": "60609ed2-334a-4bc5-b48e-549c1556c131",
   "metadata": {},
   "outputs": [],
   "source": [
    "from peft import PeftModel, PeftConfig\n",
    "\n",
    "peft_model_path = f\"models/THUDM/chatglm3-6b-epoch3\"\n",
    "\n",
    "config = PeftConfig.from_pretrained(peft_model_path)\n",
    "qlora_model = PeftModel.from_pretrained(base_model, peft_model_path)\n",
    "training_tag=f\"ChatGLM3-6B(Epoch=3, automade-dataset(fixed))\""
   ]
  },
  {
   "cell_type": "code",
   "execution_count": 16,
   "id": "295d2f3a-fe55-44ea-b1bb-18df9ce8f14e",
   "metadata": {},
   "outputs": [],
   "source": [
    "def compare_chatglm_results(query, base_model, qlora_model, training_tag):\n",
    "    base_response, base_history = base_model.chat(tokenizer, query)\n",
    "\n",
    "    inputs = tokenizer(query, return_tensors=\"pt\").to(0)\n",
    "    ft_out = qlora_model.generate(**inputs, max_new_tokens=512)\n",
    "    ft_response = tokenizer.decode(ft_out[0], skip_special_tokens=True)\n",
    "    \n",
    "    print(f\"问题：{query}\\n\\n原始输出：\\n{base_response}\\n\\n\\n微调后（{training_tag}）：\\n{ft_response}\")\n",
    "    return base_response, ft_response"
   ]
  },
  {
   "cell_type": "code",
   "execution_count": 20,
   "id": "5344c7f9-6275-4290-ba4d-ceae98a396a7",
   "metadata": {},
   "outputs": [
    {
     "name": "stdout",
     "output_type": "stream",
     "text": [
      "问题：地水师卦是什么？\n",
      "\n",
      "原始输出：\n",
      "在周易中，师卦是一个极具深意的卦象，它由两个异卦相叠组成：下卦坎（水）和上卦坤（地）。这一卦象代表“师”，即军队，寓意着兵力和农力的结合。在这里，坎卦象征着水和险难，而坤卦象征着地和顺从，暗示着通过将军事力量安置于民间，可以在必要时顺利调动。\n",
      "\n",
      "师卦的核心哲学是：虽然兵力代表着危险和战争，但其使用应当是圣人不得已而为之的最后手段。在正确的情况下，军事力量可以顺应形势，将危险转化为吉祥。因此，在军事策略上，此卦象征着出征将会顺利，无灾祸。\n",
      "\n",
      "师卦紧随讼卦（争讼卦），在《序卦》中解释为“讼必有众起，故受之以师”。这意味着争端激化至众多人群的参与，形成了类似军队的集体力量。\n",
      "\n",
      "根据《象辞》，师卦由坤卦坎卦组成，象征着“地中有水”。君子观此卦象，取法于容纳江河的大地，收容和畜养大众，展示了一种包容和辅助的品质。师卦的主题是围绕着众人的困境和劳苦，表现出排除万难和公正无私的态度。其中，“丈人吉，无咎”表明只有德高望重的长者能够率领军队才能吉祥无咎。这对于处在困境中的人来说，也是一个重要的提醒，需要包容别人，艰苦努力，摒除一切困难。\n",
      "\n",
      "在传统解卦中，师卦代表养兵聚众，出师攻伐的象征，但在这种情况下，彼此都会受伤，难得安宁。因此，需要谨慎行事，避免盲目妄动，保全自己，保持冷静机动，严于律已。在事业、经商、求名、婚恋、决策等方面都需要警惕潜在的敌人，谨小慎微，行为果断，从容沉着对付一切。只有如此，才能成功化解困境，获得名利双全。\n",
      "\n",
      "\n",
      "微调后（ChatGLM3-6B(Epoch=3, automade-dataset(fixed))）：\n",
      "[gMASK]sop 地水师卦是什么？ 在周易中，地水师卦是一个极具深意的卦象，它由两个异卦相叠组成：下卦坎（水）和上卦坤（地）。这一卦象代表“地水师”，即军队，寓意着兵力和资源的运输、调度以及作战指挥。\n",
      "\n",
      "地水师卦的核心哲学是： index>\n",
      "\n",
      "- 君子观此卦象，从而思辨处理事态的经验和哲学\n",
      "- 君子观此卦象，从而了解域外敌国的情况\n",
      "\n",
      "在占卜中，地水师卦代表君子，象征着事态的发展。象征着冰（坎）和众（坤）相交，即地水和水的交合，暗示着理解和包容他人，等待时机，耐心等待，不可强求。\n",
      "\n",
      "地水师卦象征着事态的发展和变化，提示着君子应该等待时机，以柔克刚，等待机会，不可强求。在经商、求名、婚恋、决策等方面，都需要等待合适的时机，不得强求。\n",
      "\n",
      "在事态中，地水师卦代表君子，提示着以柔克刚，等待时机，不可强求。在经营、求利、誉名、婚恋、决策等方面，都需要等待合适的时机，不得强求。\n",
      "\n",
      "地水师卦在事态中代表君子，需要等待合适的时机，不得强求。在经商、求名、婚恋、决策等方面，都需要以柔克刚，等待机会，不可强求。在经商方面，需要等待时机，不可轻举妄动，等待机会，方可获得财富。在求名方面，需要耐心努力，等待机会，不可急功近利。在婚恋方面，需要等待合适的对象，不可强求。在决策方面，需要冷静分析，等待合适的时机，不可轻率行事。\n"
     ]
    }
   ],
   "source": [
    "# 微调前后效果对比\n",
    "base_response, ft_response = compare_chatglm_results(\"地水师卦是什么？\", base_model, qlora_model, training_tag)"
   ]
  },
  {
   "cell_type": "code",
   "execution_count": 19,
   "id": "bb44b863-8cc2-488e-8a70-2fc3d3ea4f26",
   "metadata": {},
   "outputs": [
    {
     "name": "stdout",
     "output_type": "stream",
     "text": [
      "问题：讼卦的哲学思想\n",
      "\n",
      "原始输出：\n",
      "在周易中，讼卦是由乾上坎下，刚与险相对的卦象。它预示着虽有利可图，但需要警惕戒惧。事情在中间阶段吉利，但最终会带来凶险。因此，对于涉及大川的行动不利，但会见大人却会有利。讼卦象征着天与水违行，即乾天升而坎水降，这种流向相背的情况，象征着事理的乖舛和无法调和。因此，君子观此卦象，以杜绝争讼为意，从而在谋事之初必须慎之又慎。讼卦的解释中指出，身心不安，事多不顺，宜修身养性，谨慎处事。在运势上，事与愿违，凡事不顺，宜防陷阱。在事业上，起初顺利，有利可图，继而受挫，务必警惕，慎之又慎，不得固执已见。在决策上，争强好胜，不安于现状，为改变命运和超越他人而奋斗。头脑聪颖，反应敏捷，有贵人相助。但缺乏持之以恒的毅力，容易得罪他人，带来诉讼之灾。因此，讼卦提示着需要接受教训，知足适可而止，可以功成名就。\n",
      "\n",
      "\n",
      "微调后（ChatGLM3-6B(Epoch=3, automade-dataset(fixed))）：\n",
      "[gMASK]sop 讼卦的哲学思想与解卦\n",
      "\n",
      " 在周易中，讼卦是由乾上坎下，刚与险相对的卦象。它预示着虽有利可图，但需要警惕戒惧。事情在中间阶段吉利，但最终会带来凶险。因此，对于涉及大川的行动不利，但会见大人却会有利。讼卦象征着天与水违行，即乾天升而坎水降，这种流向相背的情况，象征着事理的乖舛和无法调和。因此，君子观此卦象，以杜绝争讼为意，从而在谋事之初必须慎之又慎。讼卦的解释中指出，身心不安，事多不顺，宜修身养性，谨慎处事。在运势上，事与愿违，凡事不顺，宜防陷阱。在事业上，起初顺利，有利可图，继而受挫，务必警惕，慎之又慎，不得固执已见。在决策上，争强好胜，不安于现状，为改变命运和超越他人而奋斗。头脑聪颖，反应敏捷，有贵人相助。但缺乏持之以恒的毅力，容易得罪他人，带来诉讼之灾。因此，讼卦提示着需要接受教训，知足适可而止，可以功成名就。\n"
     ]
    }
   ],
   "source": [
    "base_response, ft_response = compare_chatglm_results(\"讼卦的哲学思想\", base_model, qlora_model, training_tag)"
   ]
  },
  {
   "cell_type": "markdown",
   "id": "f4d39496-5528-4046-a17d-1d3364770fa2",
   "metadata": {},
   "source": [
    "**结论：模型微调前后推断效果变化不大，没有明显的提升。**"
   ]
  },
  {
   "cell_type": "code",
   "execution_count": null,
   "id": "fb9cce50-403c-49b9-8318-ab8c5287d7ed",
   "metadata": {},
   "outputs": [],
   "source": []
  }
 ],
 "metadata": {
  "kernelspec": {
   "display_name": "Python 3 (ipykernel)",
   "language": "python",
   "name": "python3"
  },
  "language_info": {
   "codemirror_mode": {
    "name": "ipython",
    "version": 3
   },
   "file_extension": ".py",
   "mimetype": "text/x-python",
   "name": "python",
   "nbconvert_exporter": "python",
   "pygments_lexer": "ipython3",
   "version": "3.10.12"
  }
 },
 "nbformat": 4,
 "nbformat_minor": 5
}
