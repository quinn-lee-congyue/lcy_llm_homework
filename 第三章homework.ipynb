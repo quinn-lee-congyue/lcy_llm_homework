{
 "cells": [
  {
   "cell_type": "code",
   "execution_count": 3,
   "id": "b1021096-4401-446c-b226-3fc84c6bc762",
   "metadata": {},
   "outputs": [],
   "source": [
    "from transformers import pipeline"
   ]
  },
  {
   "cell_type": "markdown",
   "id": "8006fad5-7625-4772-af45-1beecf92ce5b",
   "metadata": {},
   "source": [
    "目标：针对中文问答问题QA，观察不同模型的效果。"
   ]
  },
  {
   "cell_type": "markdown",
   "id": "88887076-3605-45f7-967a-8c3e2222a9ff",
   "metadata": {},
   "source": [
    "以下是10个中文QA样例，其中前5个样例无法在上下文中获取答案，而后5个样例可以直接在上下文中提取答案。"
   ]
  },
  {
   "cell_type": "code",
   "execution_count": 6,
   "id": "d9da0dfe-3b17-4960-b303-0352865f3bc2",
   "metadata": {},
   "outputs": [],
   "source": [
    "qa_list = [\n",
    "    {\"question\":\"中国古代四大发明是哪些？\",\"context\":\"中国古代有许多重要的发明，其中四大发明被认为对世界文明产生了深远影响。\",\"answer\":\"中国古代四大发明包括指南针、造纸术、火药和印刷术。\"},\n",
    "    {\"question\":\"孔子是哪个时期的思想家？\",\"context\":\"孔子是中国古代著名的思想家、教育家、政治家，他的思想影响了中国几千年的历史。\",\"answer\":\"孔子是春秋时期的思想家。\"},\n",
    "    {\"question\":\"中国的最高峰是哪座山？\",\"context\":\"中国地形多样，拥有许多著名的山脉和高峰。\",\"answer\":\"中国的最高峰是珠穆朗玛峰，位于喜马拉雅山脉。\"},\n",
    "    {\"question\":\"明清两代中国的官方语言是什么？\",\"context\":\"中国历史上，官方语言有过不同的演变和变革。\",\"answer\":\"明清两代中国的官方语言是文言文。\"},\n",
    "    {\"question\":\"中国的四大名著包括哪些？\",\"context\":\"中国文学史上有许多经典作品，其中四大名著被誉为最具代表性的作品之一。\",\"answer\":\"中国的四大名著包括《红楼梦》、《西游记》、《水浒传》和《三国演义》。\"},\n",
    "    {\"question\":\"中国的国家象征是什么？\",\"context\":\"中国的国家象征是国徽，其包含了五星红旗和天安门的图案。\",\"answer\":\"中国的国家象征是国徽。\"},\n",
    "    {\"question\":\"谁是中国的第一位女性宇航员？\",\"context\":\"刘洋是中国的第一位女性宇航员，她于2012年成功执行了中国的太空飞行任务。\",\"answer\":\"刘洋是中国的第一位女性宇航员。\"},\n",
    "    {\"question\":\"世界上最大的洲是哪个？\",\"context\":\"亚洲是世界上最大的洲，其面积约为4400万平方公里。\",\"answer\":\"世界上最大的洲是亚洲。\"},\n",
    "    {\"question\":\"中国的首都是哪里？\",\"context\":\"北京是中国的首都，也是中国政治、文化和经济的中心。\",\"answer\":\"中国的首都是北京。\"},\n",
    "    {\"question\":\"世界上最长的河流是什么？\",\"context\":\"尼罗河是世界上最长的河流，流经多个国家，是古埃及文明的重要支撑。\",\"answer\":\"世界上最长的河流是尼罗河。\"},\n",
    "]"
   ]
  },
  {
   "cell_type": "markdown",
   "id": "44735fb7-8d69-4ab5-a0e7-2cc2af12199c",
   "metadata": {},
   "source": [
    "1.模型1:mdeberta-v3-base-squad2\n",
    "\n",
    "该模型用SQuAD2.0数据集进行3epoch微调。\n",
    "\n",
    "**结论：模型1在中文问答上表现很差，它只是简单地返回了上下文，而没有学到回答能力。**"
   ]
  },
  {
   "cell_type": "code",
   "execution_count": 11,
   "id": "c8143cf8-f115-49e7-945b-6ad51c8c7420",
   "metadata": {},
   "outputs": [],
   "source": [
    "qa_model_1 = pipeline(\"question-answering\", \"timpal0l/mdeberta-v3-base-squad2\")"
   ]
  },
  {
   "cell_type": "code",
   "execution_count": 13,
   "id": "6b4fa28c-0c20-479f-9dbb-667a8ef08974",
   "metadata": {},
   "outputs": [
    {
     "data": {
      "text/plain": [
       "{'score': 0.9698036313056946, 'start': 0, 'end': 10, 'answer': '我叫小明，住在上海。'}"
      ]
     },
     "execution_count": 13,
     "metadata": {},
     "output_type": "execute_result"
    }
   ],
   "source": [
    "question = \"我家在哪里？\"\n",
    "context = \"我叫小明，住在上海。\"\n",
    "qa_model_1(question = question, context = context)"
   ]
  },
  {
   "cell_type": "code",
   "execution_count": 15,
   "id": "64eb53ae-86b2-4c23-8f9a-dbce0ed3b0cc",
   "metadata": {},
   "outputs": [
    {
     "name": "stdout",
     "output_type": "stream",
     "text": [
      "第 1个问题： 中国古代四大发明是哪些？\n",
      "模型回答： 中国古代有许多重要的发明，其中四大发明被认为对世界文明产生了深远影响。   模型得分： 0.27343425154685974\n",
      "正确回答： 中国古代四大发明包括指南针、造纸术、火药和印刷术。\n",
      "\n",
      "\n",
      "第 2个问题： 孔子是哪个时期的思想家？\n",
      "模型回答： 孔子是中国古代著名的思想家、教育家、政治家，他的思想影响了中国几千年的历史。   模型得分： 0.8319253921508789\n",
      "正确回答： 孔子是春秋时期的思想家。\n",
      "\n",
      "\n",
      "第 3个问题： 中国的最高峰是哪座山？\n",
      "模型回答： 中国地形多样，拥有许多著名的山脉和高峰。   模型得分： 0.08437710255384445\n",
      "正确回答： 中国的最高峰是珠穆朗玛峰，位于喜马拉雅山脉。\n",
      "\n",
      "\n",
      "第 4个问题： 明清两代中国的官方语言是什么？\n",
      "模型回答： 中国历史上，官方语言有过不同的演变和变革。   模型得分： 0.0011150293285027146\n",
      "正确回答： 明清两代中国的官方语言是文言文。\n",
      "\n",
      "\n",
      "第 5个问题： 中国的四大名著包括哪些？\n",
      "模型回答： 中国文学史上有许多经典作品，其中四大名著被誉为最具代表性的作品之一。   模型得分： 0.5656246542930603\n",
      "正确回答： 中国的四大名著包括《红楼梦》、《西游记》、《水浒传》和《三国演义》。\n",
      "\n",
      "\n",
      "第 6个问题： 中国的国家象征是什么？\n",
      "模型回答： 中国的国家象征是国徽，其包含了五星红旗和天安门的图案。   模型得分： 0.9882994294166565\n",
      "正确回答： 中国的国家象征是国徽。\n",
      "\n",
      "\n",
      "第 7个问题： 谁是中国的第一位女性宇航员？\n",
      "模型回答： 刘洋是中国的第一位女性宇航员，她于2012年成功执行了中国的太空飞行任务。   模型得分： 0.9980441331863403\n",
      "正确回答： 刘洋是中国的第一位女性宇航员。\n",
      "\n",
      "\n",
      "第 8个问题： 世界上最大的洲是哪个？\n",
      "模型回答： 亚洲是世界上最大的洲，其面积约为4400万平方公里。   模型得分： 0.9955858588218689\n",
      "正确回答： 世界上最大的洲是亚洲。\n",
      "\n",
      "\n",
      "第 9个问题： 中国的首都是哪里？\n",
      "模型回答： 北京是中国的首都，也是中国政治、文化和经济的中心。   模型得分： 0.9960784912109375\n",
      "正确回答： 中国的首都是北京。\n",
      "\n",
      "\n",
      "第 10个问题： 世界上最长的河流是什么？\n",
      "模型回答： 尼罗河是世界上最长的河流，流经多个国家，是古埃及文明的重要支撑。   模型得分： 0.9974938035011292\n",
      "正确回答： 世界上最长的河流是尼罗河。\n",
      "\n",
      "\n"
     ]
    }
   ],
   "source": [
    "for index,qa in enumerate(qa_list):\n",
    "    result = qa_model_1(question = qa[\"question\"], context = qa[\"context\"])\n",
    "    print(\"第\",str(index+1)+\"个问题：\",qa[\"question\"])\n",
    "    print(\"模型回答：\",result['answer'],\" \",\"模型得分：\",result['score'])\n",
    "    print(\"正确回答：\",qa[\"answer\"])\n",
    "    print(\"\\n\")"
   ]
  },
  {
   "cell_type": "markdown",
   "id": "2ccec234-3fb5-4907-81a6-90309949fe55",
   "metadata": {},
   "source": [
    "2. 模型2:roberta-base-chinese-extractive-qa\n",
    "\n",
    "**结论：由于模型2在文档上写到主要解决解析性问答问题，因此模型2在后5个样例上表现很好，但是前5个样例上表现糟糕。**"
   ]
  },
  {
   "cell_type": "code",
   "execution_count": 19,
   "id": "e5c4dd25-188f-4113-8bf7-f40faca823ac",
   "metadata": {
    "scrolled": true
   },
   "outputs": [
    {
     "data": {
      "application/vnd.jupyter.widget-view+json": {
       "model_id": "35ec15b42caa4b808bf27c5b618e6326",
       "version_major": 2,
       "version_minor": 0
      },
      "text/plain": [
       "config.json:   0%|          | 0.00/452 [00:00<?, ?B/s]"
      ]
     },
     "metadata": {},
     "output_type": "display_data"
    },
    {
     "data": {
      "application/vnd.jupyter.widget-view+json": {
       "model_id": "2ed5f859039148d1af02e93180383b1e",
       "version_major": 2,
       "version_minor": 0
      },
      "text/plain": [
       "pytorch_model.bin:   0%|          | 0.00/407M [00:00<?, ?B/s]"
      ]
     },
     "metadata": {},
     "output_type": "display_data"
    },
    {
     "data": {
      "application/vnd.jupyter.widget-view+json": {
       "model_id": "5f1538acbbcf48b1ba4b688403b3bbd8",
       "version_major": 2,
       "version_minor": 0
      },
      "text/plain": [
       "tokenizer_config.json:   0%|          | 0.00/216 [00:00<?, ?B/s]"
      ]
     },
     "metadata": {},
     "output_type": "display_data"
    },
    {
     "data": {
      "application/vnd.jupyter.widget-view+json": {
       "model_id": "9e3f1540f38c4a18865ddcdd9d79d525",
       "version_major": 2,
       "version_minor": 0
      },
      "text/plain": [
       "vocab.txt:   0%|          | 0.00/110k [00:00<?, ?B/s]"
      ]
     },
     "metadata": {},
     "output_type": "display_data"
    },
    {
     "data": {
      "application/vnd.jupyter.widget-view+json": {
       "model_id": "0fc08cfca64140faac82008ecc67b7fb",
       "version_major": 2,
       "version_minor": 0
      },
      "text/plain": [
       "special_tokens_map.json:   0%|          | 0.00/112 [00:00<?, ?B/s]"
      ]
     },
     "metadata": {},
     "output_type": "display_data"
    }
   ],
   "source": [
    "qa_model_2 = pipeline(\"question-answering\", \"uer/roberta-base-chinese-extractive-qa\")"
   ]
  },
  {
   "cell_type": "code",
   "execution_count": 20,
   "id": "b6a2add3-31b8-4e44-b767-923caa6a50ac",
   "metadata": {
    "scrolled": true
   },
   "outputs": [
    {
     "name": "stdout",
     "output_type": "stream",
     "text": [
      "第 1个问题： 中国古代四大发明是哪些？\n",
      "模型回答： 四大发明   模型得分： 2.370842412346974e-05\n",
      "正确回答： 中国古代四大发明包括指南针、造纸术、火药和印刷术。\n",
      "\n",
      "\n",
      "第 2个问题： 孔子是哪个时期的思想家？\n",
      "模型回答： 中国   模型得分： 2.64501693436614e-07\n",
      "正确回答： 孔子是春秋时期的思想家。\n",
      "\n",
      "\n",
      "第 3个问题： 中国的最高峰是哪座山？\n",
      "模型回答： 山脉   模型得分： 1.4165577077226293e-13\n",
      "正确回答： 中国的最高峰是珠穆朗玛峰，位于喜马拉雅山脉。\n",
      "\n",
      "\n",
      "第 4个问题： 明清两代中国的官方语言是什么？\n",
      "模型回答： 中国   模型得分： 1.0700071904901076e-11\n",
      "正确回答： 明清两代中国的官方语言是文言文。\n",
      "\n",
      "\n",
      "第 5个问题： 中国的四大名著包括哪些？\n",
      "模型回答： 四大名著   模型得分： 1.4593907735616085e-06\n",
      "正确回答： 中国的四大名著包括《红楼梦》、《西游记》、《水浒传》和《三国演义》。\n",
      "\n",
      "\n",
      "第 6个问题： 中国的国家象征是什么？\n",
      "模型回答： 国徽   模型得分： 0.5973851084709167\n",
      "正确回答： 中国的国家象征是国徽。\n",
      "\n",
      "\n",
      "第 7个问题： 谁是中国的第一位女性宇航员？\n",
      "模型回答： 刘洋   模型得分： 0.8408709168434143\n",
      "正确回答： 刘洋是中国的第一位女性宇航员。\n",
      "\n",
      "\n",
      "第 8个问题： 世界上最大的洲是哪个？\n",
      "模型回答： 亚洲   模型得分： 0.6184653639793396\n",
      "正确回答： 世界上最大的洲是亚洲。\n",
      "\n",
      "\n",
      "第 9个问题： 中国的首都是哪里？\n",
      "模型回答： 北京   模型得分： 0.5889805555343628\n",
      "正确回答： 中国的首都是北京。\n",
      "\n",
      "\n",
      "第 10个问题： 世界上最长的河流是什么？\n",
      "模型回答： 尼罗河   模型得分： 0.46418753266334534\n",
      "正确回答： 世界上最长的河流是尼罗河。\n",
      "\n",
      "\n"
     ]
    }
   ],
   "source": [
    "for index,qa in enumerate(qa_list):\n",
    "    result = qa_model_2(question = qa[\"question\"], context = qa[\"context\"])\n",
    "    print(\"第\",str(index+1)+\"个问题：\",qa[\"question\"])\n",
    "    print(\"模型回答：\",result['answer'],\" \",\"模型得分：\",result['score'])\n",
    "    print(\"正确回答：\",qa[\"answer\"])\n",
    "    print(\"\\n\")"
   ]
  },
  {
   "cell_type": "markdown",
   "id": "b1015787-2810-4f55-bf2c-21f5206a15f5",
   "metadata": {},
   "source": [
    "3. 模型3：Randeng-T5-784M-QA-Chinese\n",
    "\n",
    "模型3是hugging face上首个中文生成式问答模型。\n",
    "\n",
    "**结论：该模型在样例集上表现也不好，只是简单地把提供的上下文作为答案输出，并没有学到回答的能力。**"
   ]
  },
  {
   "cell_type": "code",
   "execution_count": 4,
   "id": "302f2aa2-87e0-45da-91a8-019b3929357a",
   "metadata": {},
   "outputs": [
    {
     "data": {
      "application/vnd.jupyter.widget-view+json": {
       "model_id": "cf71b89048b6485190ba284515566762",
       "version_major": 2,
       "version_minor": 0
      },
      "text/plain": [
       "config.json:   0%|          | 0.00/760 [00:00<?, ?B/s]"
      ]
     },
     "metadata": {},
     "output_type": "display_data"
    },
    {
     "data": {
      "application/vnd.jupyter.widget-view+json": {
       "model_id": "3f475dcb2c95417398d0ceed72b9aa0a",
       "version_major": 2,
       "version_minor": 0
      },
      "text/plain": [
       "pytorch_model.bin:   0%|          | 0.00/1.57G [00:00<?, ?B/s]"
      ]
     },
     "metadata": {},
     "output_type": "display_data"
    },
    {
     "name": "stderr",
     "output_type": "stream",
     "text": [
      "Some weights of MT5ForQuestionAnswering were not initialized from the model checkpoint at IDEA-CCNL/Randeng-T5-784M-QA-Chinese and are newly initialized: ['qa_outputs.bias', 'qa_outputs.weight']\n",
      "You should probably TRAIN this model on a down-stream task to be able to use it for predictions and inference.\n"
     ]
    },
    {
     "data": {
      "application/vnd.jupyter.widget-view+json": {
       "model_id": "e4e6db9be62d4ec6b757f91c5d0fa4ef",
       "version_major": 2,
       "version_minor": 0
      },
      "text/plain": [
       "tokenizer_config.json:   0%|          | 0.00/414 [00:00<?, ?B/s]"
      ]
     },
     "metadata": {},
     "output_type": "display_data"
    },
    {
     "data": {
      "application/vnd.jupyter.widget-view+json": {
       "model_id": "327519ab778b4f85ac8fb9b2134c9129",
       "version_major": 2,
       "version_minor": 0
      },
      "text/plain": [
       "spiece.model:   0%|          | 0.00/681k [00:00<?, ?B/s]"
      ]
     },
     "metadata": {},
     "output_type": "display_data"
    },
    {
     "data": {
      "application/vnd.jupyter.widget-view+json": {
       "model_id": "beb4141a3d0f43508fd7c47d1fa52752",
       "version_major": 2,
       "version_minor": 0
      },
      "text/plain": [
       "added_tokens.json:   0%|          | 0.00/105 [00:00<?, ?B/s]"
      ]
     },
     "metadata": {},
     "output_type": "display_data"
    },
    {
     "data": {
      "application/vnd.jupyter.widget-view+json": {
       "model_id": "c83f478feb3f421f8a44f53abfd2de73",
       "version_major": 2,
       "version_minor": 0
      },
      "text/plain": [
       "special_tokens_map.json:   0%|          | 0.00/188 [00:00<?, ?B/s]"
      ]
     },
     "metadata": {},
     "output_type": "display_data"
    },
    {
     "name": "stderr",
     "output_type": "stream",
     "text": [
      "You are using the default legacy behaviour of the <class 'transformers.models.t5.tokenization_t5.T5Tokenizer'>. This is expected, and simply means that the `legacy` (previous) behavior will be used so nothing changes for you. If you want to use the new behaviour, set `legacy=False`. This should only be set if you understand what it means, and thoroughly read the reason why this was added as explained in https://github.com/huggingface/transformers/pull/24565\n",
      "Special tokens have been added in the vocabulary, make sure the associated word embeddings are fine-tuned or trained.\n",
      "/usr/local/lib/python3.8/dist-packages/transformers/convert_slow_tokenizer.py:550: UserWarning: The sentencepiece tokenizer that you are converting to a fast tokenizer uses the byte fallback option which is not implemented in the fast tokenizers. In practice this means that the fast version of the tokenizer can produce unknown tokens whereas the sentencepiece version would have converted these unknown tokens into a sequence of byte tokens matching the original piece of text.\n",
      "  warnings.warn(\n",
      "Special tokens have been added in the vocabulary, make sure the associated word embeddings are fine-tuned or trained.\n"
     ]
    }
   ],
   "source": [
    "qa_model_3 = pipeline(\"question-answering\", \"IDEA-CCNL/Randeng-T5-784M-QA-Chinese\")"
   ]
  },
  {
   "cell_type": "code",
   "execution_count": 7,
   "id": "2eab1386-200a-4d8c-b4a0-a837742d14aa",
   "metadata": {},
   "outputs": [
    {
     "name": "stdout",
     "output_type": "stream",
     "text": [
      "第 1个问题： 中国古代四大发明是哪些？\n",
      "模型回答： 中国古代有许多重要的发明，其中四大发明被认为对世界文明产生了深远影响。   模型得分： 0.006011349614709616\n",
      "正确回答： 中国古代四大发明包括指南针、造纸术、火药和印刷术。\n",
      "\n",
      "\n",
      "第 2个问题： 孔子是哪个时期的思想家？\n",
      "模型回答： 孔子是中国古代著名的思想家、教育家、政治家，他的思想影响了中国几千年的历史。   模型得分： 0.0036567579954862595\n",
      "正确回答： 孔子是春秋时期的思想家。\n",
      "\n",
      "\n",
      "第 3个问题： 中国的最高峰是哪座山？\n",
      "模型回答： 中国地形多样，拥有许多著名的山脉和高峰。   模型得分： 0.01647038944065571\n",
      "正确回答： 中国的最高峰是珠穆朗玛峰，位于喜马拉雅山脉。\n",
      "\n",
      "\n",
      "第 4个问题： 明清两代中国的官方语言是什么？\n",
      "模型回答： 中国历史上，官方语言有过不同的演变和变革。   模型得分： 0.009679422713816166\n",
      "正确回答： 明清两代中国的官方语言是文言文。\n",
      "\n",
      "\n",
      "第 5个问题： 中国的四大名著包括哪些？\n",
      "模型回答： 中国文学史上有许多经典作品，其中四大名著被誉为最具代表性的作品之一。   模型得分： 0.0037722911220043898\n",
      "正确回答： 中国的四大名著包括《红楼梦》、《西游记》、《水浒传》和《三国演义》。\n",
      "\n",
      "\n",
      "第 6个问题： 中国的国家象征是什么？\n",
      "模型回答： 中国的国家象征是国徽，其包含了五星红旗和天安门的图案。   模型得分： 0.004552579950541258\n",
      "正确回答： 中国的国家象征是国徽。\n",
      "\n",
      "\n",
      "第 7个问题： 谁是中国的第一位女性宇航员？\n",
      "模型回答： 刘洋是中国的第一位女性宇航员，她于2012年成功执行了中国的太空飞行任务。   模型得分： 0.00625609653070569\n",
      "正确回答： 刘洋是中国的第一位女性宇航员。\n",
      "\n",
      "\n",
      "第 8个问题： 世界上最大的洲是哪个？\n",
      "模型回答： 亚洲是世界上最大的洲，其面积约为4400万平方公里。   模型得分： 0.009726770222187042\n",
      "正确回答： 世界上最大的洲是亚洲。\n",
      "\n",
      "\n",
      "第 9个问题： 中国的首都是哪里？\n",
      "模型回答： 北京是中国的首都，也是中国政治、文化和经济的中心。   模型得分： 0.012083725072443485\n",
      "正确回答： 中国的首都是北京。\n",
      "\n",
      "\n",
      "第 10个问题： 世界上最长的河流是什么？\n",
      "模型回答： 尼罗河是世界上最长的河流，流经多个国家，是古埃及文明的重要支撑。   模型得分： 0.005145675502717495\n",
      "正确回答： 世界上最长的河流是尼罗河。\n",
      "\n",
      "\n"
     ]
    }
   ],
   "source": [
    "for index,qa in enumerate(qa_list):\n",
    "    result = qa_model_3(question = qa[\"question\"], context = qa[\"context\"])\n",
    "    print(\"第\",str(index+1)+\"个问题：\",qa[\"question\"])\n",
    "    print(\"模型回答：\",result['answer'],\" \",\"模型得分：\",result['score'])\n",
    "    print(\"正确回答：\",qa[\"answer\"])\n",
    "    print(\"\\n\")"
   ]
  },
  {
   "cell_type": "markdown",
   "id": "3d7a49ec-7b88-4f3b-898b-e08a557ad877",
   "metadata": {},
   "source": [
    "4. 模型4:Chinese-Question-Answering\n",
    "\n",
    "模型4是基于bert模型，在DRCD数据集上微调。\n",
    "\n",
    "**结论：该模型能在上下文中提取问题的da**"
   ]
  },
  {
   "cell_type": "code",
   "execution_count": 8,
   "id": "3d27924f-4ab8-4731-aa9b-5337d4627a27",
   "metadata": {},
   "outputs": [
    {
     "data": {
      "application/vnd.jupyter.widget-view+json": {
       "model_id": "519e0adf56f34cfd95fa573b448ff279",
       "version_major": 2,
       "version_minor": 0
      },
      "text/plain": [
       "config.json:   0%|          | 0.00/834 [00:00<?, ?B/s]"
      ]
     },
     "metadata": {},
     "output_type": "display_data"
    },
    {
     "data": {
      "application/vnd.jupyter.widget-view+json": {
       "model_id": "d4383a5440a245afbd0e1e53e3f5084a",
       "version_major": 2,
       "version_minor": 0
      },
      "text/plain": [
       "pytorch_model.bin:   0%|          | 0.00/407M [00:00<?, ?B/s]"
      ]
     },
     "metadata": {},
     "output_type": "display_data"
    },
    {
     "data": {
      "application/vnd.jupyter.widget-view+json": {
       "model_id": "eb889b27799c4c9591328a26b463dbc8",
       "version_major": 2,
       "version_minor": 0
      },
      "text/plain": [
       "tokenizer_config.json:   0%|          | 0.00/349 [00:00<?, ?B/s]"
      ]
     },
     "metadata": {},
     "output_type": "display_data"
    },
    {
     "data": {
      "application/vnd.jupyter.widget-view+json": {
       "model_id": "a3c4dcb8a4c44ddba336efb327971bbd",
       "version_major": 2,
       "version_minor": 0
      },
      "text/plain": [
       "vocab.txt:   0%|          | 0.00/110k [00:00<?, ?B/s]"
      ]
     },
     "metadata": {},
     "output_type": "display_data"
    },
    {
     "data": {
      "application/vnd.jupyter.widget-view+json": {
       "model_id": "3ddba854e47e478795f96cafd722db0b",
       "version_major": 2,
       "version_minor": 0
      },
      "text/plain": [
       "tokenizer.json:   0%|          | 0.00/439k [00:00<?, ?B/s]"
      ]
     },
     "metadata": {},
     "output_type": "display_data"
    }
   ],
   "source": [
    "qa_model_4 = pipeline(\"question-answering\", \"NchuNLP/Chinese-Question-Answering\")"
   ]
  },
  {
   "cell_type": "code",
   "execution_count": 9,
   "id": "1b2cfd42-4a1a-483e-b6c0-47dcddc49cb8",
   "metadata": {
    "scrolled": true
   },
   "outputs": [
    {
     "name": "stdout",
     "output_type": "stream",
     "text": [
      "第 1个问题： 中国古代四大发明是哪些？\n",
      "模型回答： 对世界文明产生了深远影响。   模型得分： 0.30898478627204895\n",
      "正确回答： 中国古代四大发明包括指南针、造纸术、火药和印刷术。\n",
      "\n",
      "\n",
      "第 2个问题： 孔子是哪个时期的思想家？\n",
      "模型回答： 古代   模型得分： 0.6307176351547241\n",
      "正确回答： 孔子是春秋时期的思想家。\n",
      "\n",
      "\n",
      "第 3个问题： 中国的最高峰是哪座山？\n",
      "模型回答： 高峰。   模型得分： 0.05019593611359596\n",
      "正确回答： 中国的最高峰是珠穆朗玛峰，位于喜马拉雅山脉。\n",
      "\n",
      "\n",
      "第 4个问题： 明清两代中国的官方语言是什么？\n",
      "模型回答： 语言有过不同的演变和变革。   模型得分： 1.6076966147249294e-11\n",
      "正确回答： 明清两代中国的官方语言是文言文。\n",
      "\n",
      "\n",
      "第 5个问题： 中国的四大名著包括哪些？\n",
      "模型回答： 作品之一。   模型得分： 0.25870224833488464\n",
      "正确回答： 中国的四大名著包括《红楼梦》、《西游记》、《水浒传》和《三国演义》。\n",
      "\n",
      "\n",
      "第 6个问题： 中国的国家象征是什么？\n",
      "模型回答： 国徽   模型得分： 1.0\n",
      "正确回答： 中国的国家象征是国徽。\n",
      "\n",
      "\n",
      "第 7个问题： 谁是中国的第一位女性宇航员？\n",
      "模型回答： 刘洋   模型得分： 1.0\n",
      "正确回答： 刘洋是中国的第一位女性宇航员。\n",
      "\n",
      "\n",
      "第 8个问题： 世界上最大的洲是哪个？\n",
      "模型回答： 亚洲   模型得分： 0.9999998807907104\n",
      "正确回答： 世界上最大的洲是亚洲。\n",
      "\n",
      "\n",
      "第 9个问题： 中国的首都是哪里？\n",
      "模型回答： 北京   模型得分： 1.0\n",
      "正确回答： 中国的首都是北京。\n",
      "\n",
      "\n",
      "第 10个问题： 世界上最长的河流是什么？\n",
      "模型回答： 尼罗河   模型得分： 1.0\n",
      "正确回答： 世界上最长的河流是尼罗河。\n",
      "\n",
      "\n"
     ]
    }
   ],
   "source": [
    "for index,qa in enumerate(qa_list):\n",
    "    result = qa_model_4(question = qa[\"question\"], context = qa[\"context\"])\n",
    "    print(\"第\",str(index+1)+\"个问题：\",qa[\"question\"])\n",
    "    print(\"模型回答：\",result['answer'],\" \",\"模型得分：\",result['score'])\n",
    "    print(\"正确回答：\",qa[\"answer\"])\n",
    "    print(\"\\n\")"
   ]
  },
  {
   "cell_type": "code",
   "execution_count": null,
   "id": "a855836d-f856-4e17-a8ab-3c7851c5737a",
   "metadata": {},
   "outputs": [],
   "source": []
  }
 ],
 "metadata": {
  "kernelspec": {
   "display_name": "Python 3 (ipykernel)",
   "language": "python",
   "name": "python3"
  },
  "language_info": {
   "codemirror_mode": {
    "name": "ipython",
    "version": 3
   },
   "file_extension": ".py",
   "mimetype": "text/x-python",
   "name": "python",
   "nbconvert_exporter": "python",
   "pygments_lexer": "ipython3",
   "version": "3.8.10"
  }
 },
 "nbformat": 4,
 "nbformat_minor": 5
}
