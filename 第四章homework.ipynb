{
 "cells": [
  {
   "cell_type": "code",
   "execution_count": 18,
   "id": "05ee3f7c-c63c-4524-a8c5-e9999fae7b7b",
   "metadata": {},
   "outputs": [],
   "source": [
    "import numpy as np\n",
    "import evaluate\n",
    "import random\n",
    "import pandas as pd\n",
    "import datasets\n",
    "import subprocess\n",
    "import time\n",
    "from IPython.display import display,HTML\n",
    "from datasets import load_dataset\n",
    "from transformers import AutoTokenizer,AutoModelForSequenceClassification,TrainingArguments,Trainer"
   ]
  },
  {
   "cell_type": "markdown",
   "id": "3191366b-8401-4042-ba93-6f0534b983a3",
   "metadata": {},
   "source": [
    "### 任务一：文本分类任务"
   ]
  },
  {
   "cell_type": "code",
   "execution_count": 5,
   "id": "55d5ee43-fe8d-4dc2-bf3a-891b2a2975b1",
   "metadata": {},
   "outputs": [],
   "source": [
    "# 读取数据\n",
    "dataset = load_dataset(\"yelp_review_full\")"
   ]
  },
  {
   "cell_type": "code",
   "execution_count": 6,
   "id": "7a3d5791-ad40-4b69-b691-c65781e53f8e",
   "metadata": {},
   "outputs": [
    {
     "data": {
      "text/plain": [
       "DatasetDict({\n",
       "    train: Dataset({\n",
       "        features: ['label', 'text'],\n",
       "        num_rows: 650000\n",
       "    })\n",
       "    test: Dataset({\n",
       "        features: ['label', 'text'],\n",
       "        num_rows: 50000\n",
       "    })\n",
       "})"
      ]
     },
     "execution_count": 6,
     "metadata": {},
     "output_type": "execute_result"
    }
   ],
   "source": [
    "dataset"
   ]
  },
  {
   "cell_type": "code",
   "execution_count": 9,
   "id": "35a719e8-c9d6-4448-a8a3-4b4fbc3d2749",
   "metadata": {
    "scrolled": true
   },
   "outputs": [
    {
     "data": {
      "text/html": [
       "<table border=\"1\" class=\"dataframe\">\n",
       "  <thead>\n",
       "    <tr style=\"text-align: right;\">\n",
       "      <th></th>\n",
       "      <th>label</th>\n",
       "      <th>text</th>\n",
       "    </tr>\n",
       "  </thead>\n",
       "  <tbody>\n",
       "    <tr>\n",
       "      <th>0</th>\n",
       "      <td>2 star</td>\n",
       "      <td>Decor was nice but the food needs flavor. If you like bland Mexican this is for you.</td>\n",
       "    </tr>\n",
       "    <tr>\n",
       "      <th>1</th>\n",
       "      <td>5 stars</td>\n",
       "      <td>Came in to take my Bride for our simple night out on our 20th Wedding Anniversary!\\nA Pleasant young man (ISIA) greeted us in the front and seated us in a very nice roomy booth. Then came our server (SERGIO) who is also Nice and Pleasant and helped us with the menu and made plenty of suggestions to make our picks really easy. We ordered the Wonton soup with egg noodles which is alright and the Highlight of our dinner which is the Hakka Rice! Oh man! That was some Beautiful Food! It's a must try dish! Everyone seems to be on top of their game! (Service that is!) A fine gentleman approach us (TONY) and checked and see how we are doing and Congratulated us on our Anniversary and gave us something Special which we really enjoyed! To all of You guys that I mentioned THANK YOU ALL for a Wonderful evening at KU Noodle. We Will Be Back!</td>\n",
       "    </tr>\n",
       "    <tr>\n",
       "      <th>2</th>\n",
       "      <td>2 star</td>\n",
       "      <td>Slides are cool but the resort itself is lacking a lot. \\nAsked for the directions for the gym and didn't give me clear directions.\\nAC was super loud.\\nKids running around past 11pm. \\nEverything is overpriced.</td>\n",
       "    </tr>\n",
       "    <tr>\n",
       "      <th>3</th>\n",
       "      <td>5 stars</td>\n",
       "      <td>$20 all you can eat sushi, how can you go wrong? The place is not too big and has a homey feel. The workers there are all awesome. I mean really awesome. One of my new favorite habits. Going to try to make it at least once a month.</td>\n",
       "    </tr>\n",
       "    <tr>\n",
       "      <th>4</th>\n",
       "      <td>3 stars</td>\n",
       "      <td>The decor is reflective of The Malaysian tropics, island style. Wood accents throughout entire restaurant along with a foosball and pool table in the back. It's a warm casual ambience, laid back. All the employees are friendly and appear joyful which elevates the mood of the diners as well. The dishes lacked flavor and were average. The \\\"Roti Canai\\\" and curry items on the menu I believe were the standout stars! I didn't get the chance to try their whole fish or seafood items so I guess I have to come back! The stir fried noodles I ordered lacked flavor, I had to add more soy sauce. Overall, the menu has abundance of seafood items in which I hope I get to try later on.</td>\n",
       "    </tr>\n",
       "    <tr>\n",
       "      <th>5</th>\n",
       "      <td>5 stars</td>\n",
       "      <td>I'm not a \\\"shoe girl\\\". I have also, recently, been condemned to wearing one pair of running trainers *everywhere* due to a really bad knee injury combined with terrible biomechanics (read: I have bow legs). Until I can get insoles, trainers were my one and only footwear.\\n\\nBut now the sun is out, my knee is better, and I am looking at my current shoe collection thinking \\\"oh mah gah, these are all SERIOUSLY old\\\". My one pair of ballet flats for summer were \\u00a312 New Look numbers that used to be metallic gold. Now they're just off-white. My two pairs of cheap trainers (no brand) have stains on them of I don't know what. I have seen my shoes in a whole new light. A shoe lady I may never become, but hell, I NEED new shoes.\\n\\nBrief autobiography of my feety matters done, now to the review at hand. I rarely review chains, and even less frequently (in fact, this could be a first) give them the full sexy five stars. Schuh is a store I rarely frequent too. I'm not a fan of 'brands' really, and prefer boutiquey numbers. I also have ridiculously narrow feet (not small, they're just long and thin) and most shoes are like boats on me and fall off.\\n\\nBut when I stubbed my toe AGAIN in my battered gold ballet flats and realised the sole was hanging off, it happened right outside Schuh, and I took it as a sign. On wandering in I realised \\\"wow this place is big and there are a LOT of shoes\\\".\\n\\nMy only other Schuh experience was the one on North Bridge which is very small, and the two stores in Glasgow which are 'ok' but I always left disinterested.\\n\\nIt could be fashion is turning my way, or that in my new found 'I can wear non-trainers!' state of mind I saw shoes in a whole new way. But they had a lot of different brands in here, and almost all of the offerings I liked!\\n\\nThe staff were also really attentive. It was a busy Bank Holiday Monday and I did the *very* annoying customer thing of asking for one pair, and whilst the staff had run off to the stock room, seeing another pair and when they came back asking for those in my size too. I did that 5 times. By the fourth time the shop assistant looked worn but was still smiling and not rude about it.\\n\\nSo with all the shoes, and friendly staff, I just had to buy a pair. They're even a 'brand' shoe as well. I didn't feel pushed into buying anything either. Sometimes in these stores the constant \\\"can I help? can I get your size?\\\" puts me off, but I was left in peace and only asked once or twice.\\n\\nBig props to this branch of Schuh. For what it is - a chain selling branded shoes - it does it well, and it was the first High Street chain shopping store I've been in that I actually enjoyed in quite some time.\\n\\nAnd I really do quite like my new shoes.</td>\n",
       "    </tr>\n",
       "    <tr>\n",
       "      <th>6</th>\n",
       "      <td>1 star</td>\n",
       "      <td>Ghetto, dirty and very rundown. one star was placed for location. that's pretty much it.</td>\n",
       "    </tr>\n",
       "    <tr>\n",
       "      <th>7</th>\n",
       "      <td>2 star</td>\n",
       "      <td>Not keen on this one. Doesn't have anywhere near the ambience of the Thistle Street branch. Food is meh, staff are pretty and act like it. Granted I only had the light bites, the menu didn't really have me itching to return.\\n\\nZero atmosphere, all trying a bit too hard to be too cool for school. And in this neighbourhood, they're competing with the heavyweights. All in all a pretty blah post-sunday market option. I'll choose Hamiltons or Hectors in future.</td>\n",
       "    </tr>\n",
       "    <tr>\n",
       "      <th>8</th>\n",
       "      <td>2 star</td>\n",
       "      <td>I'm sorry, but this food is not very good.  I've never seen Yelp reviews so far off the mark. \\n\\nIn all fairness, I only ordered from the Mediterranean menu, so maybe the Italian dishes are the way to go.  But I sampled 8 items, so I think I can write an educated review.  \\n\\nI ordered the lentil soup, because it was recommended over and over again in the Yelp reviews.  Awful.  You know how those State Street middle eastern restaurants smell?  That's how this soup tastes.  Over-seasoned, over-purreed (did not see an actual lentil), and stinky.  Every person at my table mentioned the bad smell.  \\n\\nI moved onto the Mediterranean plate (the entree).  Here's the breakdown:\\n- Tabouli: Inedible.  Soaking in salt and vinegar, tasted like pickle juice.\\n- Grape leaves: Inedible.  Tasted like tobacco!\\n- Baba Ganouj: Inedible.  Not sure why.  Just tasted awful.\\n- Falafel: Okay, but I've had better at the Great Dane.  That tells you something.\\n- Hummus:  Passable, but this cannot be the best in Madison (as the other reviews say).  I can go into Whole Foods and blindly choose any hummus and it would be better.\\n- Tahini dip:  No flavor!  It literally tasted like water, if that makes any sense.\\n- Pita slices: Nothing special.\\n\\nAnd at $13.95, it was overpriced as well.  Should have been under ten bucks.\\n\\nI've been a vegetarian for over half of my life, so these foods are not new to me.\\n\\nOh, the bread was good.</td>\n",
       "    </tr>\n",
       "    <tr>\n",
       "      <th>9</th>\n",
       "      <td>4 stars</td>\n",
       "      <td>Growing up I could walk to a Sonic from my house.  So I am too familiar with all the goodness that America's drive-in has to offer.  When we moved to Vegas we noticed that Sonic's are here in Vegas but not a lot.  We live over by the South point so we actually have to travel to the 2 Sonic's that are sort of close by.  If you haven't had a sonic burger, toaster, or coney then you are probably from the east coast.  Sonic is the place in the southwest.  I will always get a Super Sonic Cheeseburger.  How can you go wrong when the word \\\"Super\\\" is in the name of your burger.  I am from New Mexico and you will notice that there is a topping called green chiles.  Don't confuse this with jalapenos.  This is the real deal and I think it is actually hatch green chile.  My wife always gets the coney dog.  Sonic was also one of the first fast food place to serve breakfast all day.  I don't really like eating in the car but we have 2 small children and it's kind of easy when they are strapped in their seats.  So if you haven't had a Sonic burger you are missing out.  Make sure to get cheese and green chiles on your burger! Cheers!</td>\n",
       "    </tr>\n",
       "  </tbody>\n",
       "</table>"
      ],
      "text/plain": [
       "<IPython.core.display.HTML object>"
      ]
     },
     "metadata": {},
     "output_type": "display_data"
    }
   ],
   "source": [
    "# 查看样例\n",
    "def show_random_elements(dataset,num_examples=10):\n",
    "    assert num_examples <= len(dataset),\"不能输出超过数据集数量的元素\"\n",
    "    picks = []\n",
    "    for _ in range(num_examples):\n",
    "        pick = random.randint(0,len(dataset)-1)\n",
    "        while pick in picks:\n",
    "            pick = random.randint(0,len(dataset)-1)\n",
    "        picks.append(pick)\n",
    "\n",
    "    df = pd.DataFrame(dataset[picks])\n",
    "    for column,type in dataset.features.items():\n",
    "        if isinstance(type,datasets.ClassLabel):\n",
    "            df[column] = df[column].transform(lambda i:type.names[i])\n",
    "\n",
    "    display(HTML(df.to_html()))\n",
    "\n",
    "show_random_elements(dataset[\"train\"])"
   ]
  },
  {
   "cell_type": "code",
   "execution_count": 7,
   "id": "f288c61a-8bad-4f4e-a4eb-3ed871b2ca0c",
   "metadata": {},
   "outputs": [],
   "source": [
    "# 数据预处理\n",
    "tokenizer = AutoTokenizer.from_pretrained(\"bert-base-cased\")\n",
    "\n",
    "def tokenize_function(examples):\n",
    "    return tokenizer(examples[\"text\"],padding=\"max_length\",truncation=True)\n",
    "\n",
    "tokenized_datasets = dataset.map(tokenize_function,batched=True)"
   ]
  },
  {
   "cell_type": "code",
   "execution_count": 10,
   "id": "d2ef09e7-a11e-414e-948a-edf586ca6031",
   "metadata": {},
   "outputs": [
    {
     "data": {
      "text/html": [
       "<table border=\"1\" class=\"dataframe\">\n",
       "  <thead>\n",
       "    <tr style=\"text-align: right;\">\n",
       "      <th></th>\n",
       "      <th>label</th>\n",
       "      <th>text</th>\n",
       "      <th>input_ids</th>\n",
       "      <th>token_type_ids</th>\n",
       "      <th>attention_mask</th>\n",
       "    </tr>\n",
       "  </thead>\n",
       "  <tbody>\n",
       "    <tr>\n",
       "      <th>0</th>\n",
       "      <td>5 stars</td>\n",
       "      <td>Ok, I'm not a vegan. In fact, when my hubby picked me up for lunch and surprised me by taking me to this little hidden restaurant, I was a wee bit nervous about finding something on the menu I would like. Instead, I just returned to my office, handed my co-worker the menu, insisted she go eat there for lunch, and sat down to write this review. Yup, it was THAT good. \\n\\nWhen we walked in, we were greeted by Areeya who informed us that the salads and pizzas (on gluten free crust) were something that were favorited by most since we were new to the place. So, that's exactly what we got, a half House Salad with the House dressing and a full Traditional Pizza. We got our salad first and it was a smorgasbord of fresh veggies (avocado, bell pepper, cucumber, mixed greens, sprouts) and nuts mixed with the house dressing which tasted fresh and garlicy. Then came the pizza, which the menu claims is 'unlike any you've ever had'... and this is why that statement is true: The gluten free crust isn't a thin piece tasteless cardboard like one would expect, it is a thick, delicious, buckwheat crust that was the perfect consistency for piling on the delicious pesto marinara, basil, cauliflower, almonds, &amp; walnuts. The flavors were extraordinary! \\n\\nI'm not a total health nut and I'm definitely not a vegan but this place serves up DELICIOUS healthy food and I cannot wait to return to try more items from the menu.\\n\\nTIP: If you're ordering for lunch, call ahead and place your order - It did take a little while to get the food.</td>\n",
       "      <td>[101, 23330, 117, 146, 112, 182, 1136, 170, 1396, 3820, 119, 1130, 1864, 117, 1165, 1139, 10960, 2665, 3015, 1143, 1146, 1111, 5953, 1105, 3753, 1143, 1118, 1781, 1143, 1106, 1142, 1376, 4610, 4382, 117, 146, 1108, 170, 1195, 1162, 2113, 5604, 1164, 4006, 1380, 1113, 1103, 13171, 146, 1156, 1176, 119, 3743, 117, 146, 1198, 1608, 1106, 1139, 1701, 117, 3541, 1139, 1884, 118, 7589, 1103, 13171, 117, 6744, 1131, 1301, 3940, 1175, 1111, 5953, 117, 1105, 2068, 1205, 1106, 3593, 1142, 3189, 119, 10684, 1643, 117, 1122, 1108, 157, 11612, 1942, 1363, 119, 165, 183, 165, 183, 2924, ...]</td>\n",
       "      <td>[0, 0, 0, 0, 0, 0, 0, 0, 0, 0, 0, 0, 0, 0, 0, 0, 0, 0, 0, 0, 0, 0, 0, 0, 0, 0, 0, 0, 0, 0, 0, 0, 0, 0, 0, 0, 0, 0, 0, 0, 0, 0, 0, 0, 0, 0, 0, 0, 0, 0, 0, 0, 0, 0, 0, 0, 0, 0, 0, 0, 0, 0, 0, 0, 0, 0, 0, 0, 0, 0, 0, 0, 0, 0, 0, 0, 0, 0, 0, 0, 0, 0, 0, 0, 0, 0, 0, 0, 0, 0, 0, 0, 0, 0, 0, 0, 0, 0, 0, 0, ...]</td>\n",
       "      <td>[1, 1, 1, 1, 1, 1, 1, 1, 1, 1, 1, 1, 1, 1, 1, 1, 1, 1, 1, 1, 1, 1, 1, 1, 1, 1, 1, 1, 1, 1, 1, 1, 1, 1, 1, 1, 1, 1, 1, 1, 1, 1, 1, 1, 1, 1, 1, 1, 1, 1, 1, 1, 1, 1, 1, 1, 1, 1, 1, 1, 1, 1, 1, 1, 1, 1, 1, 1, 1, 1, 1, 1, 1, 1, 1, 1, 1, 1, 1, 1, 1, 1, 1, 1, 1, 1, 1, 1, 1, 1, 1, 1, 1, 1, 1, 1, 1, 1, 1, 1, ...]</td>\n",
       "    </tr>\n",
       "  </tbody>\n",
       "</table>"
      ],
      "text/plain": [
       "<IPython.core.display.HTML object>"
      ]
     },
     "metadata": {},
     "output_type": "display_data"
    }
   ],
   "source": [
    "# 查看处理后的数据\n",
    "show_random_elements(tokenized_datasets[\"train\"],num_examples=1)"
   ]
  },
  {
   "cell_type": "code",
   "execution_count": 7,
   "id": "04a54e52-b992-48ef-8022-169e6943cfd6",
   "metadata": {},
   "outputs": [
    {
     "name": "stderr",
     "output_type": "stream",
     "text": [
      "Some weights of BertForSequenceClassification were not initialized from the model checkpoint at bert-base-cased and are newly initialized: ['classifier.bias', 'classifier.weight']\n",
      "You should probably TRAIN this model on a down-stream task to be able to use it for predictions and inference.\n"
     ]
    }
   ],
   "source": [
    "# 模型微调\n",
    "model = AutoModelForSequenceClassification.from_pretrained(\"bert-base-cased\",num_labels=5)\n",
    "\n",
    "# 设置模型参数\n",
    "model_dir = \"models/bert-base-cased-finetune-yelp-full\"\n",
    " \n",
    "training_args = TrainingArguments(output_dir = model_dir,\n",
    "                                  evaluation_strategy = \"epoch\",\n",
    "                                 per_device_train_batch_size=16,\n",
    "                                 num_train_epochs=3,\n",
    "                                 logging_steps=1000)"
   ]
  },
  {
   "cell_type": "code",
   "execution_count": null,
   "id": "815b6400-2664-43bd-a6fc-c6ac8518a561",
   "metadata": {},
   "outputs": [],
   "source": [
    "# 设置评估指标\n",
    "metric = evaluate.load(\"accuracy\")\n",
    "def compute_metrics(eval_pred):\n",
    "    logits,labels = eval_pred\n",
    "    predictions = np.argmax(logits,axis=-1)\n",
    "    return metric.compute(predictions=predictions,references=labels)"
   ]
  },
  {
   "cell_type": "code",
   "execution_count": 8,
   "id": "1a5b757d-92c1-40bb-9fe0-c2e86484427d",
   "metadata": {},
   "outputs": [
    {
     "data": {
      "text/plain": [
       "DatasetDict({\n",
       "    train: Dataset({\n",
       "        features: ['label', 'text', 'input_ids', 'token_type_ids', 'attention_mask'],\n",
       "        num_rows: 650000\n",
       "    })\n",
       "    test: Dataset({\n",
       "        features: ['label', 'text', 'input_ids', 'token_type_ids', 'attention_mask'],\n",
       "        num_rows: 50000\n",
       "    })\n",
       "})"
      ]
     },
     "execution_count": 8,
     "metadata": {},
     "output_type": "execute_result"
    }
   ],
   "source": [
    "tokenized_datasets"
   ]
  },
  {
   "cell_type": "markdown",
   "id": "16230a58-62ca-4a50-8b69-033171c86366",
   "metadata": {},
   "source": [
    "由于65万数据需要43个小时，太耗时了，现用1万样本进行训练。"
   ]
  },
  {
   "cell_type": "code",
   "execution_count": 9,
   "id": "239b5188-e4ee-46a3-b3b7-15b358e04d82",
   "metadata": {},
   "outputs": [],
   "source": [
    "# 数据抽样\n",
    "train_dataset_1w = tokenized_datasets[\"train\"].shuffle(seed=10).select(range(10000))\n",
    "eval_dataset_1w = tokenized_datasets[\"test\"].shuffle(seed=10).select(range(10000))"
   ]
  },
  {
   "cell_type": "code",
   "execution_count": 10,
   "id": "9a4a56b7-4b30-48bd-9a15-ad22155a23aa",
   "metadata": {},
   "outputs": [
    {
     "name": "stderr",
     "output_type": "stream",
     "text": [
      "Detected kernel version 5.4.0, which is below the recommended minimum of 5.5.0; this can cause the process to hang. It is recommended to upgrade the kernel to the minimum version or higher.\n"
     ]
    }
   ],
   "source": [
    "# 模型训练\n",
    "trainer = Trainer(\n",
    "    model=model,\n",
    "    args=training_args,\n",
    "    train_dataset=train_dataset_10w,\n",
    "    eval_dataset=eval_dataset_1w ,\n",
    "    compute_metrics=compute_metrics,\n",
    ")"
   ]
  },
  {
   "cell_type": "markdown",
   "id": "cf5701fb-fc07-473c-82b4-5392dbfb0b9c",
   "metadata": {},
   "source": [
    "在后台运行模型训练文件，保存模型\"models/bert-base-cased-finetune-yelp-1w\""
   ]
  },
  {
   "cell_type": "markdown",
   "id": "c084183d-6947-44ca-aa1a-b1087ef97011",
   "metadata": {},
   "source": [
    "#### 比较利用1千和1万样本集训练的模型在测试集上的效果"
   ]
  },
  {
   "cell_type": "code",
   "execution_count": 4,
   "id": "6e2e2d11-66a6-4c6f-9227-c9142ccab3f3",
   "metadata": {},
   "outputs": [],
   "source": [
    "model_dir_base = \"models/bert-base-cased-finetune-yelp-1k\"\n",
    "model_dir = \"models/bert-base-cased-finetune-yelp-1w\"\n",
    "\n",
    "#加载本地保存的模型\n",
    "trained_model_base = AutoModelForSequenceClassification.from_pretrained(model_dir_base)\n",
    "trained_model = AutoModelForSequenceClassification.from_pretrained(model_dir)"
   ]
  },
  {
   "cell_type": "code",
   "execution_count": 11,
   "id": "a5e600cf-9b0a-44d2-a167-37a148ca89fd",
   "metadata": {},
   "outputs": [],
   "source": [
    "# 抽样验证集\n",
    "test_dataset = tokenized_datasets[\"test\"].shuffle(seed=10).select(range(10000))"
   ]
  },
  {
   "cell_type": "code",
   "execution_count": 14,
   "id": "6ff84d73-270c-4f38-8952-fc74a99b119a",
   "metadata": {},
   "outputs": [
    {
     "name": "stderr",
     "output_type": "stream",
     "text": [
      "Detected kernel version 5.4.0, which is below the recommended minimum of 5.5.0; this can cause the process to hang. It is recommended to upgrade the kernel to the minimum version or higher.\n"
     ]
    }
   ],
   "source": [
    "training_args = TrainingArguments(output_dir = model_dir,\n",
    "                                  evaluation_strategy = \"epoch\",\n",
    "                                 per_device_train_batch_size=16,\n",
    "                                 num_train_epochs=3,\n",
    "                                 logging_steps=1000)\n",
    "\n",
    "# 创建 Trainer 对象\n",
    "trainer_base = Trainer(\n",
    "    model=trained_model_base,\n",
    "    args=training_args,\n",
    "    eval_dataset=test_dataset ,\n",
    "    compute_metrics=compute_metrics,\n",
    ")"
   ]
  },
  {
   "cell_type": "code",
   "execution_count": 20,
   "id": "209142e9-5cb4-4a23-8af3-2b348a64b05b",
   "metadata": {},
   "outputs": [
    {
     "data": {
      "text/plain": [
       "{'eval_loss': 1.0299875736236572,\n",
       " 'eval_accuracy': 0.5487,\n",
       " 'eval_runtime': 288.3609,\n",
       " 'eval_samples_per_second': 34.679,\n",
       " 'eval_steps_per_second': 4.335}"
      ]
     },
     "execution_count": 20,
     "metadata": {},
     "output_type": "execute_result"
    }
   ],
   "source": [
    "trainer_base.evaluate()"
   ]
  },
  {
   "cell_type": "code",
   "execution_count": 19,
   "id": "a422be0f-6f18-4cb2-9c1e-11be270a87db",
   "metadata": {},
   "outputs": [
    {
     "name": "stderr",
     "output_type": "stream",
     "text": [
      "Detected kernel version 5.4.0, which is below the recommended minimum of 5.5.0; this can cause the process to hang. It is recommended to upgrade the kernel to the minimum version or higher.\n"
     ]
    }
   ],
   "source": [
    "# 创建 Trainer 对象\n",
    "trainer = Trainer(\n",
    "    model=trained_model,\n",
    "    args=training_args,\n",
    "    eval_dataset=test_dataset ,\n",
    "    compute_metrics=compute_metrics,\n",
    ")"
   ]
  },
  {
   "cell_type": "code",
   "execution_count": 21,
   "id": "41ed98df-d220-4e7b-95b8-75ec584b3550",
   "metadata": {},
   "outputs": [
    {
     "data": {
      "text/html": [
       "\n",
       "    <div>\n",
       "      \n",
       "      <progress value='1250' max='1250' style='width:300px; height:20px; vertical-align: middle;'></progress>\n",
       "      [1250/1250 04:46]\n",
       "    </div>\n",
       "    "
      ],
      "text/plain": [
       "<IPython.core.display.HTML object>"
      ]
     },
     "metadata": {},
     "output_type": "display_data"
    },
    {
     "data": {
      "text/plain": [
       "{'eval_loss': 1.121748685836792,\n",
       " 'eval_accuracy': 0.6108,\n",
       " 'eval_runtime': 286.4555,\n",
       " 'eval_samples_per_second': 34.909,\n",
       " 'eval_steps_per_second': 4.364}"
      ]
     },
     "execution_count": 21,
     "metadata": {},
     "output_type": "execute_result"
    }
   ],
   "source": [
    "trainer.evaluate()"
   ]
  },
  {
   "cell_type": "markdown",
   "id": "086cb395-b47e-4cce-b196-aa55b9ab6cbe",
   "metadata": {},
   "source": [
    "**对比用1千训练集微调的bert模型，用1万训练集微调的bert模型在1万测试集上的精确度从0.5487提升到0.6108。**"
   ]
  },
  {
   "cell_type": "code",
   "execution_count": null,
   "id": "5aa1a967-9db6-48c6-96fb-a01b5ba4533b",
   "metadata": {},
   "outputs": [],
   "source": []
  }
 ],
 "metadata": {
  "kernelspec": {
   "display_name": "Python 3 (ipykernel)",
   "language": "python",
   "name": "python3"
  },
  "language_info": {
   "codemirror_mode": {
    "name": "ipython",
    "version": 3
   },
   "file_extension": ".py",
   "mimetype": "text/x-python",
   "name": "python",
   "nbconvert_exporter": "python",
   "pygments_lexer": "ipython3",
   "version": "3.8.10"
  }
 },
 "nbformat": 4,
 "nbformat_minor": 5
}
